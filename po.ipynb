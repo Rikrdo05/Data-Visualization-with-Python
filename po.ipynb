{
 "cells": [
  {
   "cell_type": "code",
   "execution_count": 1,
   "id": "26555574",
   "metadata": {},
   "outputs": [],
   "source": [
    "# Import required libraries\n",
    "import pandas as pd\n",
    "import numpy as np\n",
    "import plotly.express as px\n",
    "import plotly.graph_objects as go\n"
   ]
  },
  {
   "cell_type": "markdown",
   "id": "35625b54",
   "metadata": {},
   "source": [
    "# 1. Scatter Plot:"
   ]
  },
  {
   "cell_type": "code",
   "execution_count": 2,
   "id": "c55a9b0b",
   "metadata": {},
   "outputs": [],
   "source": [
    "##Example 1: Let us illustrate the income vs age of people in a scatter plot\n",
    "\n",
    "age_array=np.random.randint(25,55,60)\n",
    "# Define an array containing salesamount values \n",
    "income_array=np.random.randint(300000,700000,3000000)"
   ]
  },
  {
   "cell_type": "code",
   "execution_count": 3,
   "id": "094a40b6",
   "metadata": {},
   "outputs": [],
   "source": [
    "##First we will create an empty figure using go.Figure()\n",
    "#fig=go.Figure()\n"
   ]
  },
  {
   "cell_type": "code",
   "execution_count": 32,
   "id": "f6101db9",
   "metadata": {},
   "outputs": [],
   "source": [
    "#Next we will create a scatter plot by using the add_trace function and use the go.scatter() function within it\n",
    "# In go.Scatter we define the x-axis data,y-axis data and define the mode as markers with color of the marker as blue\n",
    "#fig.add_trace(go.Scatter(x=age_array, y=income_array, mode='markers', marker=dict(color='blue')))\n",
    "#fig.update_layout(title='Economic Survey', xaxis_title='Age', yaxis_title='Income')\n",
    "# Display the figure\n",
    "#fig.show()"
   ]
  },
  {
   "cell_type": "markdown",
   "id": "05f4460b",
   "metadata": {},
   "source": [
    "# 2. Line Plot:¶"
   ]
  },
  {
   "cell_type": "code",
   "execution_count": 5,
   "id": "b5aa3730",
   "metadata": {},
   "outputs": [],
   "source": [
    "##Example 2: Let us illustrate the sales of bicycles from Jan to August last year using a line chart\n",
    "# Define an array containing numberofbicyclessold  \n",
    "numberofbicyclessold_array=[50,100,40,150,160,70,60,45]\n",
    "# Define an array containing months\n",
    "months_array=[\"Jan\",\"Feb\",\"Mar\",\"April\",\"May\",\"June\",\"July\",\"August\"]"
   ]
  },
  {
   "cell_type": "code",
   "execution_count": 33,
   "id": "4d9c8f44",
   "metadata": {},
   "outputs": [],
   "source": [
    "##First we will create an empty figure using go.Figure()\n",
    "#fig=go.Figure()"
   ]
  },
  {
   "cell_type": "code",
   "execution_count": 34,
   "id": "c7bd46e0",
   "metadata": {},
   "outputs": [],
   "source": [
    "#Next we will create a line plot by using the add_trace function and use the go.scatter() function within it\n",
    "# In go.Scatter we define the x-axis data,y-axis data and define the mode as lines with color of the marker as green\n",
    "#fig.add_trace(go.Scatter(x=months_array, y=numberofbicyclessold_array, mode='lines', marker=dict(color='green')))"
   ]
  },
  {
   "cell_type": "code",
   "execution_count": 35,
   "id": "306fe2e5",
   "metadata": {},
   "outputs": [],
   "source": [
    "## Here we update these values under function attributes such as title,xaxis_title and yaxis_title\n",
    "#fig.update_layout(title='Bicycle Sales', xaxis_title='Months', yaxis_title='Number of Bicycles Sold')\n",
    "# Display the figure\n",
    "#fig.show()"
   ]
  },
  {
   "cell_type": "markdown",
   "id": "e53386fd",
   "metadata": {},
   "source": [
    "# 3.Bar Plot:"
   ]
  },
  {
   "cell_type": "code",
   "execution_count": 36,
   "id": "10f66f12",
   "metadata": {},
   "outputs": [],
   "source": [
    "##Example 3: Let us illustrate the average pass percentage of classes from grade 6 to grade 10\n",
    "\n",
    "# Define an array containing scores of students \n",
    "#score_array=[80,90,56,88,95]\n",
    "# Define an array containing Grade names  \n",
    "#grade_array=['Grade 6','Grade 7','Grade 8','Grade 9','Grade 10']"
   ]
  },
  {
   "cell_type": "code",
   "execution_count": 37,
   "id": "ed476497",
   "metadata": {},
   "outputs": [],
   "source": [
    "# Use plotly express bar chart function px.bar.Provide input data, x and y axis variable, and title of the chart.\n",
    "# This will give average pass percentage per class\n",
    "#fig = px.bar( x=grade_array, y=score_array, title='Pass Percentage of Classes') \n",
    "#fig.show()"
   ]
  },
  {
   "cell_type": "markdown",
   "id": "89e08b6f",
   "metadata": {},
   "source": [
    "# 4.Histogram"
   ]
  },
  {
   "cell_type": "code",
   "execution_count": 38,
   "id": "9e934217",
   "metadata": {},
   "outputs": [],
   "source": [
    "##Example 4: Let us illustrate the distribution of heights of 200 people using a histogram\n",
    "\n",
    "import numpy as np\n",
    "#Here we will concentrate on heights which are 160 and the standard deviation is 11\n",
    "heights_array = np.random.normal(160, 11, 200)\n",
    "## Use plotly express histogram chart function px.histogram.Provide input data x to the histogram\n",
    "#fig = px.histogram(x=heights_array,title=\"Distribution of Heights\")\n",
    "#fig.show()"
   ]
  },
  {
   "cell_type": "markdown",
   "id": "5f74e58f",
   "metadata": {},
   "source": [
    "# 5. Bubble Plot"
   ]
  },
  {
   "cell_type": "code",
   "execution_count": 12,
   "id": "3f9967cd",
   "metadata": {},
   "outputs": [
    {
     "data": {
      "text/html": [
       "<div>\n",
       "<style scoped>\n",
       "    .dataframe tbody tr th:only-of-type {\n",
       "        vertical-align: middle;\n",
       "    }\n",
       "\n",
       "    .dataframe tbody tr th {\n",
       "        vertical-align: top;\n",
       "    }\n",
       "\n",
       "    .dataframe thead th {\n",
       "        text-align: right;\n",
       "    }\n",
       "</style>\n",
       "<table border=\"1\" class=\"dataframe\">\n",
       "  <thead>\n",
       "    <tr style=\"text-align: right;\">\n",
       "      <th></th>\n",
       "      <th>City</th>\n",
       "      <th>Numberofcrimes</th>\n",
       "      <th>Year</th>\n",
       "    </tr>\n",
       "  </thead>\n",
       "  <tbody>\n",
       "    <tr>\n",
       "      <th>0</th>\n",
       "      <td>Chicago</td>\n",
       "      <td>1000</td>\n",
       "      <td>2007</td>\n",
       "    </tr>\n",
       "    <tr>\n",
       "      <th>1</th>\n",
       "      <td>Chicago</td>\n",
       "      <td>1200</td>\n",
       "      <td>2008</td>\n",
       "    </tr>\n",
       "    <tr>\n",
       "      <th>2</th>\n",
       "      <td>Austin</td>\n",
       "      <td>400</td>\n",
       "      <td>2007</td>\n",
       "    </tr>\n",
       "    <tr>\n",
       "      <th>3</th>\n",
       "      <td>Austin</td>\n",
       "      <td>700</td>\n",
       "      <td>2008</td>\n",
       "    </tr>\n",
       "    <tr>\n",
       "      <th>4</th>\n",
       "      <td>Seattle</td>\n",
       "      <td>350</td>\n",
       "      <td>2007</td>\n",
       "    </tr>\n",
       "    <tr>\n",
       "      <th>5</th>\n",
       "      <td>Seattle</td>\n",
       "      <td>1500</td>\n",
       "      <td>2008</td>\n",
       "    </tr>\n",
       "  </tbody>\n",
       "</table>\n",
       "</div>"
      ],
      "text/plain": [
       "      City  Numberofcrimes  Year\n",
       "0  Chicago            1000  2007\n",
       "1  Chicago            1200  2008\n",
       "2   Austin             400  2007\n",
       "3   Austin             700  2008\n",
       "4  Seattle             350  2007\n",
       "5  Seattle            1500  2008"
      ]
     },
     "execution_count": 12,
     "metadata": {},
     "output_type": "execute_result"
    }
   ],
   "source": [
    "##Example 4: Let us illustrate crime statistics of US cities with a bubble chart\n",
    "\n",
    "#Create a dictionary having city,numberofcrimes and year as 3 keys\n",
    "crime_details = {\n",
    "    'City' : ['Chicago', 'Chicago', 'Austin', 'Austin','Seattle','Seattle'],\n",
    "    'Numberofcrimes' : [1000, 1200, 400, 700,350,1500],\n",
    "    'Year' : ['2007', '2008', '2007', '2008','2007','2008'],\n",
    "}\n",
    "  \n",
    "# create a Dataframe object with the dictionary\n",
    "df = pd.DataFrame(crime_details)\n",
    "  \n",
    "df"
   ]
  },
  {
   "cell_type": "code",
   "execution_count": 13,
   "id": "e6bc98f3",
   "metadata": {},
   "outputs": [],
   "source": [
    "## Group the number of crimes by city and find the total number of crimes per city\n",
    "bub_data = df.groupby('City')['Numberofcrimes'].sum().reset_index()"
   ]
  },
  {
   "cell_type": "code",
   "execution_count": 39,
   "id": "af9a2939",
   "metadata": {},
   "outputs": [],
   "source": [
    "## Bubble chart using px.scatter function with x ,y and size varibles defined.Title defined as Crime Statistics\n",
    "#fig = px.scatter(bub_data, x=\"City\", y=\"Numberofcrimes\", size=\"Numberofcrimes\",hover_name=\"City\", title='Crime Statistics', size_max=60)\n",
    "#fig.show()"
   ]
  },
  {
   "cell_type": "markdown",
   "id": "af3d7981",
   "metadata": {},
   "source": [
    "# 6.Pie Plot:"
   ]
  },
  {
   "cell_type": "code",
   "execution_count": 15,
   "id": "b08d0cea",
   "metadata": {},
   "outputs": [],
   "source": [
    "## Monthly expenditure of a family\n",
    "# Random Data\n",
    "exp_percent= [20, 50, 10,8,12]\n",
    "house_holdcategories = ['Grocery', 'Rent', 'School Fees','Transport','Savings']"
   ]
  },
  {
   "cell_type": "code",
   "execution_count": 40,
   "id": "42e8702f",
   "metadata": {},
   "outputs": [],
   "source": [
    "# Use px.pie function to create the chart. Input dataset. \n",
    "# Values parameter will set values associated to the sector. 'exp_percent' feature is passed to it.\n",
    "# labels for the sector are passed to the `house hold categoris` parameter.\n",
    "#fig = px.pie(values=exp_percent, names=house_holdcategories, title='Household Expenditure')\n",
    "#fig.show()"
   ]
  },
  {
   "cell_type": "markdown",
   "id": "474988c5",
   "metadata": {},
   "source": [
    "# 7.Sunburst Charts:"
   ]
  },
  {
   "cell_type": "code",
   "execution_count": 31,
   "id": "dc3c3b0a",
   "metadata": {},
   "outputs": [],
   "source": [
    "##Example 4: Let us illustrate plot the \n",
    "\n",
    "#Create a dictionary having a set of people represented by a character array and the parents of these characters represented in another\n",
    "## array and the values are the values associated to the vectors.\n",
    "data = dict(\n",
    "    character=[\"Eve\", \"Cain\", \"Seth\", \"Enos\", \"Noam\", \"Abel\", \"Awan\", \"Enoch\", \"Azura\"],\n",
    "    parent=[\"\", \"Eve\", \"Eve\", \"Seth\", \"Seth\", \"Eve\", \"Eve\", \"Awan\", \"Eve\" ],\n",
    "    value=[10, 14, 12, 10, 2, 6, 6, 4, 4])\n",
    "\n",
    "#fig = px.sunburst(data,names='character',parents='parent',values='value',title=\"Family chart\")\n",
    "#fig.show()"
   ]
  },
  {
   "cell_type": "markdown",
   "id": "c138d1e6",
   "metadata": {},
   "source": [
    "# plotly.graph_objects¶\n"
   ]
  },
  {
   "cell_type": "markdown",
   "id": "8cc2e177",
   "metadata": {},
   "source": [
    "# 1. Scatter Plot"
   ]
  },
  {
   "cell_type": "code",
   "execution_count": 18,
   "id": "c39e5e0a",
   "metadata": {},
   "outputs": [],
   "source": [
    "## Write your code here\n",
    "#fig=go.Figure()\n",
    "#fig.add_trace(go.Scatter(x=data['Distance'],y=data['DepTime'],mode='markers', marker=dict(color='green')))\n",
    "#fig.update_layout(title='Distance vs Departure Time',xaxis_title='Distance',yaxis_title='DeptTime')\n",
    "#fig.show()"
   ]
  },
  {
   "cell_type": "markdown",
   "id": "5781e0a2",
   "metadata": {},
   "source": [
    "# 2. Line Plot"
   ]
  },
  {
   "cell_type": "code",
   "execution_count": 20,
   "id": "7cf10683",
   "metadata": {},
   "outputs": [],
   "source": [
    "# Group the data by Month and compute average over arrival delay time.\n",
    "#line_data = data.groupby('Month')['ArrDelay'].mean().reset_index()"
   ]
  },
  {
   "cell_type": "code",
   "execution_count": 21,
   "id": "e3a86b18",
   "metadata": {},
   "outputs": [],
   "source": [
    "## Write your code here\n",
    "#fig=go.Figure()\n",
    "#fig.add_trace(go.Scatter(x=line_data['Month'],y=line_data['ArrDelay'],mode='lines', marker=dict(color='green')))\n",
    "#fig.update_layout(title='Month vs Average Flight Delay Time',xaxis_title='Month',yaxis_title='ArrDelay')\n",
    "#fig.show()"
   ]
  },
  {
   "cell_type": "markdown",
   "id": "e959dc27",
   "metadata": {},
   "source": [
    "# 3. Bar Chart"
   ]
  },
  {
   "cell_type": "code",
   "execution_count": 22,
   "id": "bf635f1e",
   "metadata": {},
   "outputs": [],
   "source": [
    "# Group the data by destination state and reporting airline. Compute total number of flights in each combination\n",
    "#bar_data = data.groupby('DestState')['Flights'].sum().reset_index("
   ]
  },
  {
   "cell_type": "code",
   "execution_count": 23,
   "id": "7ceba93d",
   "metadata": {},
   "outputs": [],
   "source": [
    "# Display the data\n",
    "#bar_data"
   ]
  },
  {
   "cell_type": "code",
   "execution_count": 24,
   "id": "f270711f",
   "metadata": {},
   "outputs": [],
   "source": [
    "## Write your code here\n",
    "#fig=px.bar(bar_data,x='DestState', y='Flights', title='Total number of flights to the destination state split by reporting air')\n",
    "#fig.show()"
   ]
  },
  {
   "cell_type": "markdown",
   "id": "fa6628da",
   "metadata": {},
   "source": [
    "# 4. Histogram"
   ]
  },
  {
   "cell_type": "code",
   "execution_count": 25,
   "id": "0bc42410",
   "metadata": {},
   "outputs": [],
   "source": [
    "# Set missing values to 0\n",
    "#data['ArrDelay'] = data['ArrDelay'].fillna(0)"
   ]
  },
  {
   "cell_type": "code",
   "execution_count": 26,
   "id": "43de989a",
   "metadata": {},
   "outputs": [],
   "source": [
    "## Write your code here\n",
    "#fig=px.histogram(data,x='ArrDelay', title='Total number of flights to the destination state split by reporting air')\n",
    "#fig.show()"
   ]
  },
  {
   "cell_type": "markdown",
   "id": "93b7ba55",
   "metadata": {},
   "source": [
    "# 5. Bubble Chart"
   ]
  },
  {
   "cell_type": "code",
   "execution_count": 27,
   "id": "41ae4c84",
   "metadata": {},
   "outputs": [],
   "source": [
    "## Group the data by reporting airline and get number of flights\n",
    "#bub_data = data.groupby('Reporting_Airline')['Flights'].sum().reset_index()"
   ]
  },
  {
   "cell_type": "code",
   "execution_count": 28,
   "id": "e9901d4e",
   "metadata": {},
   "outputs": [],
   "source": [
    "## Write your code here\n",
    "#fig=px.scatter(bub_data,x='Reporting_Airline', y='Flights', size='Flights',hover_name='Reporting_Airline',title='Reporting Airline vs Number of Flights')\n",
    "#fig.show()"
   ]
  },
  {
   "cell_type": "markdown",
   "id": "1176dd9d",
   "metadata": {},
   "source": [
    "# 6. Pie Chart"
   ]
  },
  {
   "cell_type": "code",
   "execution_count": 29,
   "id": "fa75e0b0",
   "metadata": {},
   "outputs": [],
   "source": [
    "## Write your code here\n",
    "#fig=px.pie(data,values='Month',names=\"DistanceGroup\", title='Distance group proportion by month')\n",
    "#fig.show()"
   ]
  },
  {
   "cell_type": "markdown",
   "id": "19273c93",
   "metadata": {},
   "source": [
    "# 7. SunBurst Charts"
   ]
  },
  {
   "cell_type": "code",
   "execution_count": 30,
   "id": "20aaccf1",
   "metadata": {},
   "outputs": [],
   "source": [
    "## Write your code here\n",
    "#fig=px.sunburst(data,path=['Month','DestStateName'],values='Flights', title='Flight Distribution Hierarchy')\n",
    "#fig.show()"
   ]
  },
  {
   "cell_type": "code",
   "execution_count": null,
   "id": "f3de4798",
   "metadata": {},
   "outputs": [],
   "source": []
  }
 ],
 "metadata": {
  "kernelspec": {
   "display_name": "Python 3 (ipykernel)",
   "language": "python",
   "name": "python3"
  },
  "language_info": {
   "codemirror_mode": {
    "name": "ipython",
    "version": 3
   },
   "file_extension": ".py",
   "mimetype": "text/x-python",
   "name": "python",
   "nbconvert_exporter": "python",
   "pygments_lexer": "ipython3",
   "version": "3.10.9"
  }
 },
 "nbformat": 4,
 "nbformat_minor": 5
}
